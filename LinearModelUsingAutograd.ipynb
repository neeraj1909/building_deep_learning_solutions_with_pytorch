{
 "cells": [
  {
   "cell_type": "code",
   "execution_count": 1,
   "metadata": {},
   "outputs": [],
   "source": [
    "import numpy as np\n",
    "import matplotlib.pyplot as plt"
   ]
  },
  {
   "cell_type": "code",
   "execution_count": 2,
   "metadata": {},
   "outputs": [],
   "source": [
    "x_train = np.array ([[4.7], [2.4], [7.5], [7.1], [4.3], [7.816],\n",
    "                     [8.9], [5.2], [8.59], [2.1], [8],\n",
    "                     [10], [4.5], [6], [4]],\n",
    "                    dtype = np.float32)\n",
    "\n",
    "y_train = np.array ([[2.6], [1.6], [3.09], [2.4], [2.4], [3.357],\n",
    "                     [2.6], [1.96], [3.53], [1.76], [3.2],\n",
    "                     [3.5], [1.6], [2.5], [2.2]],\n",
    "                    dtype = np.float32)"
   ]
  },
  {
   "cell_type": "code",
   "execution_count": 3,
   "metadata": {},
   "outputs": [
    {
     "data": {
      "image/png": "[encoded data removed]",
      "text/plain": [
       "<Figure size 864x576 with 1 Axes>"
      ]
     },
     "metadata": {
      "needs_background": "light"
     },
     "output_type": "display_data"
    }
   ],
   "source": [
    "plt.figure(figsize=(12, 8))\n",
    "\n",
    "plt.scatter(x_train, y_train, label='Original data', s=250, c='g')\n",
    "\n",
    "plt.legend()\n",
    "plt.show()"
   ]
  },
  {
   "cell_type": "code",
   "execution_count": null,
   "metadata": {},
   "outputs": [],
   "source": []
  },
  {
   "cell_type": "code",
   "execution_count": 4,
   "metadata": {},
   "outputs": [],
   "source": [
    "import torch"
   ]
  },
  {
   "cell_type": "code",
   "execution_count": 5,
   "metadata": {},
   "outputs": [
    {
     "name": "stdout",
     "output_type": "stream",
     "text": [
      "requires_grad for X_train:  False\n",
      "requires_grad for Y_train:  False\n"
     ]
    }
   ],
   "source": [
    "X_train = torch.from_numpy(x_train)\n",
    "Y_train = torch.from_numpy(y_train)\n",
    "\n",
    "print('requires_grad for X_train: ', X_train.requires_grad)\n",
    "print('requires_grad for Y_train: ', Y_train.requires_grad)"
   ]
  },
  {
   "cell_type": "code",
   "execution_count": 6,
   "metadata": {},
   "outputs": [],
   "source": [
    "input_size = 1\n",
    "hidden_size = 1\n",
    "output_size = 1"
   ]
  },
  {
   "cell_type": "code",
   "execution_count": 7,
   "metadata": {},
   "outputs": [
    {
     "data": {
      "text/plain": [
       "torch.Size([1, 1])"
      ]
     },
     "execution_count": 7,
     "metadata": {},
     "output_type": "execute_result"
    }
   ],
   "source": [
    "w1 = torch.rand(input_size,\n",
    "                hidden_size,\n",
    "               \n",
    "               requires_grad=True)\n",
    "w1.shape"
   ]
  },
  {
   "cell_type": "code",
   "execution_count": 8,
   "metadata": {},
   "outputs": [
    {
     "data": {
      "text/plain": [
       "torch.Size([1, 1])"
      ]
     },
     "execution_count": 8,
     "metadata": {},
     "output_type": "execute_result"
    }
   ],
   "source": [
    "w2 = torch.rand(hidden_size,\n",
    "                output_size,\n",
    "               \n",
    "               requires_grad=True)\n",
    "w2.shape"
   ]
  },
  {
   "cell_type": "code",
   "execution_count": 9,
   "metadata": {},
   "outputs": [],
   "source": [
    "learning_rate = 1e-6"
   ]
  },
  {
   "cell_type": "code",
   "execution_count": 28,
   "metadata": {},
   "outputs": [
    {
     "name": "stdout",
     "output_type": "stream",
     "text": [
      "50 5.071251392364502\n",
      "100 4.983700752258301\n",
      "150 4.903599262237549\n",
      "200 4.830361843109131\n",
      "250 4.763443946838379\n",
      "300 4.70233678817749\n",
      "350 4.646561145782471\n",
      "400 4.595681667327881\n",
      "450 4.549294471740723\n",
      "500 4.507025241851807\n",
      "550 4.468523025512695\n",
      "600 4.433467864990234\n",
      "650 4.401569366455078\n",
      "700 4.372549533843994\n",
      "750 4.346161365509033\n",
      "800 4.322174549102783\n",
      "850 4.300379276275635\n",
      "900 4.280585765838623\n",
      "950 4.262608528137207\n",
      "1000 4.246290683746338\n",
      "1050 4.231482028961182\n",
      "1100 4.218046188354492\n",
      "1150 4.205859184265137\n",
      "1200 4.194809436798096\n",
      "1250 4.184791088104248\n",
      "1300 4.1757121086120605\n",
      "1350 4.167486190795898\n",
      "1400 4.1600341796875\n",
      "1450 4.153284072875977\n",
      "1500 4.147172927856445\n",
      "1550 4.141637325286865\n",
      "1600 4.136627674102783\n",
      "1650 4.1320929527282715\n",
      "1700 4.127989292144775\n",
      "1750 4.124276638031006\n",
      "1800 4.120916843414307\n",
      "1850 4.117879390716553\n",
      "1900 4.11513090133667\n",
      "1950 4.112646579742432\n",
      "2000 4.1103997230529785\n",
      "2050 4.108367919921875\n",
      "2100 4.106530666351318\n",
      "2150 4.1048712730407715\n",
      "2200 4.10336971282959\n",
      "2250 4.10201358795166\n",
      "2300 4.100788593292236\n",
      "2350 4.099679946899414\n",
      "2400 4.09868049621582\n",
      "2450 4.097776889801025\n",
      "2500 4.096959590911865\n",
      "2550 4.096221923828125\n",
      "2600 4.095554828643799\n",
      "2650 4.094954013824463\n",
      "2700 4.094409465789795\n",
      "2750 4.093918800354004\n",
      "2800 4.093474864959717\n",
      "2850 4.093074321746826\n",
      "2900 4.092713356018066\n",
      "2950 4.092385768890381\n"
     ]
    }
   ],
   "source": [
    "for iter in range(1, 3000):\n",
    "    \n",
    "    y_pred = X_train.mm(w1).mm(w2)\n",
    "    loss = (y_pred - Y_train).pow(2).sum()\n",
    "    \n",
    "    if iter % 50 == 0:\n",
    "        print(iter, loss.item())\n",
    "        \n",
    "    loss.backward()\n",
    "    \n",
    "    with torch.no_grad():\n",
    "        w1 -= learning_rate * w1.grad\n",
    "        w2 -= learning_rate * w2.grad\n",
    "        w1.grad.zero_()\n",
    "        w2.grad.zero_()"
   ]
  },
  {
   "cell_type": "code",
   "execution_count": 29,
   "metadata": {},
   "outputs": [
    {
     "name": "stdout",
     "output_type": "stream",
     "text": [
      "w1:  tensor([[0.6971]], requires_grad=True)\n",
      "w2:  tensor([[0.5660]], requires_grad=True)\n"
     ]
    }
   ],
   "source": [
    "print('w1: ', w1)\n",
    "print('w2: ', w2)"
   ]
  },
  {
   "cell_type": "code",
   "execution_count": 30,
   "metadata": {},
   "outputs": [
    {
     "data": {
      "text/plain": [
       "tensor([[ 4.7000],\n",
       "        [ 2.4000],\n",
       "        [ 7.5000],\n",
       "        [ 7.1000],\n",
       "        [ 4.3000],\n",
       "        [ 7.8160],\n",
       "        [ 8.9000],\n",
       "        [ 5.2000],\n",
       "        [ 8.5900],\n",
       "        [ 2.1000],\n",
       "        [ 8.0000],\n",
       "        [10.0000],\n",
       "        [ 4.5000],\n",
       "        [ 6.0000],\n",
       "        [ 4.0000]])"
      ]
     },
     "execution_count": 30,
     "metadata": {},
     "output_type": "execute_result"
    }
   ],
   "source": [
    "x_train_tensor = torch.from_numpy(x_train)\n",
    "x_train_tensor"
   ]
  },
  {
   "cell_type": "code",
   "execution_count": 31,
   "metadata": {},
   "outputs": [
    {
     "data": {
      "text/plain": [
       "tensor([[1.8545],\n",
       "        [0.9470],\n",
       "        [2.9593],\n",
       "        [2.8014],\n",
       "        [1.6966],\n",
       "        [3.0839],\n",
       "        [3.5116],\n",
       "        [2.0517],\n",
       "        [3.3893],\n",
       "        [0.8286],\n",
       "        [3.1565],\n",
       "        [3.9457],\n",
       "        [1.7756],\n",
       "        [2.3674],\n",
       "        [1.5783]], grad_fn=<MmBackward>)"
      ]
     },
     "execution_count": 31,
     "metadata": {},
     "output_type": "execute_result"
    }
   ],
   "source": [
    "predicted_in_tensor = x_train_tensor.mm(w1).mm(w2)\n",
    "predicted_in_tensor"
   ]
  },
  {
   "cell_type": "code",
   "execution_count": 32,
   "metadata": {},
   "outputs": [
    {
     "data": {
      "text/plain": [
       "array([[1.8544655 ],\n",
       "       [0.9469612 ],\n",
       "       [2.9592535 ],\n",
       "       [2.801427  ],\n",
       "       [1.6966388 ],\n",
       "       [3.083937  ],\n",
       "       [3.5116477 ],\n",
       "       [2.0517492 ],\n",
       "       [3.3893318 ],\n",
       "       [0.82859105],\n",
       "       [3.1565373 ],\n",
       "       [3.9456716 ],\n",
       "       [1.7755523 ],\n",
       "       [2.367403  ],\n",
       "       [1.5782686 ]], dtype=float32)"
      ]
     },
     "execution_count": 32,
     "metadata": {},
     "output_type": "execute_result"
    }
   ],
   "source": [
    "predicted = predicted_in_tensor.detach().numpy()\n",
    "predicted"
   ]
  },
  {
   "cell_type": "code",
   "execution_count": 33,
   "metadata": {},
   "outputs": [
    {
     "data": {
      "image/png": "[encoded data removed]",
      "text/plain": [
       "<Figure size 864x576 with 1 Axes>"
      ]
     },
     "metadata": {
      "needs_background": "light"
     },
     "output_type": "display_data"
    }
   ],
   "source": [
    "plt.figure(figsize=(12, 8))\n",
    "\n",
    "plt.scatter(x_train, y_train, label = 'Original data', s=250, c='g')\n",
    "\n",
    "plt.plot(x_train, predicted, label = 'Fitted line')\n",
    "\n",
    "plt.legend()\n",
    "\n",
    "plt.show()"
   ]
  },
  {
   "cell_type": "code",
   "execution_count": null,
   "metadata": {},
   "outputs": [],
   "source": []
  }
 ],
 "metadata": {
  "kernelspec": {
   "display_name": "Python 3",
   "language": "python",
   "name": "python3"
  },
  "language_info": {
   "codemirror_mode": {
    "name": "ipython",
    "version": 3
   },
   "file_extension": ".py",
   "mimetype": "text/x-python",
   "name": "python",
   "nbconvert_exporter": "python",
   "pygments_lexer": "ipython3",
   "version": "3.8.5"
  }
 },
 "nbformat": 4,
 "nbformat_minor": 4
}
